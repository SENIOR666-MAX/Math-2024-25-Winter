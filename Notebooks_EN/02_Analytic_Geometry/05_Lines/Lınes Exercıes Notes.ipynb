{
 "cells": [
  {
   "cell_type": "code",
   "execution_count": null,
   "id": "c74cd071-0f6d-45f8-a2f5-8e92e9770f21",
   "metadata": {},
   "outputs": [],
   "source": [
    "# Analytic Geometry - Lines\n",
    "\n"
   ]
  },
  {
   "cell_type": "markdown",
   "id": "a821db05",
   "metadata": {},
   "source": [
    "\n",
    "## Introduction\n",
    "\n",
    "In analytic geometry, the study of lines is fundamental. Lines can be described algebraically and geometrically, offering insights into their properties, intersections, and relations with other geometric objects.\n",
    "\n",
    "This section provides an overview of:\n",
    "- **Equation of a Line**: General form, slope-intercept form, and point-slope form.\n",
    "- **Slope**: Understanding gradients and their significance.\n",
    "- **Parallel and Perpendicular Lines**: Criteria and relationships.\n",
    "- **Intersection of Lines**: Finding the point of intersection.\n",
    "\n",
    "Let's dive into the topic step by step.\n"
   ]
  },
  {
   "cell_type": "markdown",
   "id": "80e00ae3-825d-4aa3-967e-49285dd8731e",
   "metadata": {},
   "source": [
    "\n",
    "## Equation of a Line\n",
    "\n",
    "### General Form\n",
    "The equation of a line in general form is:\n",
    "\\[ Ax + By + C = 0 \\]\n",
    "\n",
    "### Slope-Intercept Form\n",
    "The slope-intercept form expresses a line as:\n",
    "\\[ y = mx + c \\]\n",
    "Where:\n",
    "- \\( m \\) is the slope of the line.\n",
    "- \\( c \\) is the y-intercept.\n",
    "\n",
    "### Point-Slope Form\n",
    "If a line passes through a point \\( (x_1, y_1) \\) with slope \\( m \\), its equation is:\n",
    "\\[ y - y_1 = m(x - x_1) \\]\n"
   ]
  },
  {
   "cell_type": "markdown",
   "id": "ee4f43b9",
   "metadata": {},
   "source": [
    "\n",
    "## Slope of a Line\n",
    "\n",
    "The slope (\\( m \\)) represents the steepness of a line and is calculated as:\n",
    "\\[ m = \\frac{y_2 - y_1}{x_2 - x_1} \\]\n",
    "\n",
    "### Key Notes:\n",
    "- A positive slope indicates the line rises as \\( x \\) increases.\n",
    "- A negative slope indicates the line falls as \\( x \\) increases.\n",
    "- A slope of 0 indicates a horizontal line.\n",
    "- An undefined slope indicates a vertical line.\n"
   ]
  },
  {
   "cell_type": "markdown",
   "id": "f9dc9b6b",
   "metadata": {},
   "source": [
    "\n",
    "## Intersection of Lines\n",
    "\n",
    "To find the intersection point of two lines, solve their equations simultaneously.\n",
    "\n",
    "### Example\n",
    "Find the intersection of the lines:\n",
    "1. \\( y = 2x + 3 \\)\n",
    "2. \\( y = -x + 1 \\)\n",
    "\n",
    "By equating the two equations:\n",
    "\\[ 2x + 3 = -x + 1 \\]\n",
    "\n",
    "Solve for \\( x \\) and substitute back to find \\( y \\).\n"
   ]
  },
  {
   "cell_type": "markdown",
   "id": "30e31982",
   "metadata": {},
   "source": [
    "\n",
    "## Parallel and Perpendicular Lines\n",
    "\n",
    "### Parallel Lines\n",
    "Two lines are parallel if their slopes are equal (\\( m_1 = m_2 \\)).\n",
    "\n",
    "### Perpendicular Lines\n",
    "Two lines are perpendicular if the product of their slopes is \\(-1\\):\n",
    "\\[ m_1 \\cdot m_2 = -1 \\]\n"
   ]
  },
  {
   "cell_type": "code",
   "execution_count": null,
   "id": "c2d9cfa9",
   "metadata": {},
   "outputs": [],
   "source": [
    "\n",
    "# Example: Finding the intersection of two lines\n",
    "import sympy as sp\n",
    "\n",
    "# Define variables\n",
    "x, y = sp.symbols('x y')\n",
    "\n",
    "# Line equations\n",
    "eq1 = sp.Eq(y, 2*x + 3)  # y = 2x + 3\n",
    "eq2 = sp.Eq(y, -x + 1)   # y = -x + 1\n",
    "\n",
    "# Solve equations simultaneously\n",
    "intersection = sp.solve([eq1, eq2], (x, y))\n",
    "intersection\n"
   ]
  },
  {
   "cell_type": "code",
   "execution_count": null,
   "id": "6cb98ef6-ae9e-4ff6-95c3-e46c025b793b",
   "metadata": {},
   "outputs": [],
   "source": [
    "## Exercises"
   ]
  },
  {
   "cell_type": "code",
   "execution_count": null,
   "id": "b6cd4318-0abb-47c9-8126-33d85ab21c86",
   "metadata": {},
   "outputs": [],
   "source": [
    "# Define the points A and B\n",
    "A = (1, 2)\n",
    "B = (3, 4)\n",
    "\n",
    "# Calculate the slope (m)\n",
    "x1, y1 = A\n",
    "x2, y2 = B\n",
    "m = (y2 - y1) / (x2 - x1)\n",
    "\n",
    "# Write the equation in point-slope form and simplify\n",
    "# Using point A (x1, y1)\n",
    "b = y1 - m * x1  # Calculate y-intercept (b)\n",
    "\n",
    "# Display the result\n",
    "print(f\"The equation of the line is: y = {m}x + {b}\")\n"
   ]
  },
  {
   "cell_type": "code",
   "execution_count": null,
   "id": "a064f2ad-a15d-41ff-94f3-72ea54941151",
   "metadata": {},
   "outputs": [],
   "source": [
    "# Given point A\n",
    "A = (1, 2)\n",
    "\n",
    "# The slope of the parallel line is the same as the given line y = 2x + 3\n",
    "m = 2  # Slope of the given line\n",
    "\n",
    "# Extract the coordinates of point A\n",
    "x1, y1 = A\n",
    "\n",
    "# Calculate the y-intercept (b) using the formula y = mx + b\n",
    "b = y1 - m * x1\n",
    "\n",
    "# Display the result\n",
    "print(f\"The equation of the line passing through A and parallel to y = 2x + 3 is: y = {m}x + {b}\")\n"
   ]
  },
  {
   "cell_type": "code",
   "execution_count": null,
   "id": "56e33800-afab-4515-862e-1672181745da",
   "metadata": {},
   "outputs": [],
   "source": [
    "# Given point A\n",
    "A = (1, 2)\n",
    "\n",
    "# The slope of the given line y = 2x + 3 is 2\n",
    "m_given = 2\n",
    "\n",
    "# The slope of a line perpendicular to it is the negative reciprocal\n",
    "m_perpendicular = -1 / m_given\n",
    "\n",
    "# Extract the coordinates of point A\n",
    "x1, y1 = A\n",
    "\n",
    "# Calculate the y-intercept (b) using the formula y = mx + b\n",
    "b = y1 - m_perpendicular * x1\n",
    "\n",
    "# Display the result\n",
    "print(f\"The equation of the line passing through A and perpendicular to y = 2x + 3 is: y = {m_perpendicular}x + {b}\")\n"
   ]
  },
  {
   "cell_type": "code",
   "execution_count": null,
   "id": "efa9f087-4709-484f-a994-c54b794f110a",
   "metadata": {},
   "outputs": [],
   "source": [
    "import sympy as sp\n",
    "import math\n",
    "\n",
    "# Define the variables\n",
    "x, y = sp.symbols('x y')\n",
    "\n",
    "# Define the equations of the two lines\n",
    "eq1 = sp.Eq(y, 2*x + 3)  # Line 1: y = 2x + 3\n",
    "eq2 = sp.Eq(y, 3*x + 2)  # Line 2: y = 3x + 2\n",
    "\n",
    "# Solve for the intersection point\n",
    "intersection = sp.solve([eq1, eq2], (x, y))\n",
    "\n",
    "# Calculate the angle between the two lines\n",
    "m1 = 2  # Slope of line 1\n",
    "m2 = 3  # Slope of line 2\n",
    "\n",
    "# Formula for the angle between two lines:\n",
    "# tan(theta) = |(m2 - m1) / (1 + m1*m2)|\n",
    "tan_theta = abs((m2 - m1) / (1 + m1 * m2))\n",
    "theta = math.degrees(math.atan(tan_theta))  # Convert radians to degrees\n",
    "\n",
    "# Display the results\n",
    "print(f\"The intersection point of the two lines is: {intersection}\")\n",
    "print(f\"The angle between the two lines is: {theta:.2f} degrees\")\n"
   ]
  },
  {
   "cell_type": "code",
   "execution_count": null,
   "id": "3b0dc449-6abf-4bb5-a5f4-3746b0e0d2a0",
   "metadata": {},
   "outputs": [],
   "source": [
    "# Given point and vector\n",
    "A = (1, 2)  # Point A\n",
    "v = [2, 3]  # Vector v\n",
    "\n",
    "# The direction vector gives the slope of the line\n",
    "m = v[1] / v[0]  # Slope = rise/run = v_y / v_x\n",
    "\n",
    "# Extract the coordinates of point A\n",
    "x1, y1 = A\n",
    "\n",
    "# Equation of the line: y - y1 = m(x - x1)\n",
    "# Rearrange to the slope-intercept form: y = mx + b\n",
    "b = y1 - m * x1  # Calculate y-intercept\n",
    "\n",
    "# Display the result\n",
    "print(f\"The equation of the line passing through A(1,2) and parallel to the vector v = [2,3] is:\")\n",
    "print(f\"y = {m}x + {b}\")\n"
   ]
  },
  {
   "cell_type": "code",
   "execution_count": 1,
   "id": "68fce80b-c8d6-49a1-881e-fbd682e5da57",
   "metadata": {},
   "outputs": [
    {
     "name": "stdout",
     "output_type": "stream",
     "text": [
      "The distance from point A(1,2) to the line 2x - y + 3 = 0 is: 1.34\n"
     ]
    }
   ],
   "source": [
    "import math\n",
    "\n",
    "# Given line equation: 2x - y + 3 = 0\n",
    "# Coefficients of the line\n",
    "A = 2  # Coefficient of x\n",
    "B = -1  # Coefficient of y\n",
    "C = 3  # Constant term\n",
    "\n",
    "# Given point\n",
    "x1, y1 = 1, 2\n",
    "\n",
    "# Distance formula from point to line:\n",
    "# d = |Ax1 + By1 + C| / sqrt(A^2 + B^2)\n",
    "numerator = abs(A * x1 + B * y1 + C)\n",
    "denominator = math.sqrt(A**2 + B**2)\n",
    "distance = numerator / denominator\n",
    "\n",
    "# Display the result\n",
    "print(f\"The distance from point A(1,2) to the line 2x - y + 3 = 0 is: {distance:.2f}\")\n"
   ]
  },
  {
   "cell_type": "code",
   "execution_count": null,
   "id": "b204b3e1-414b-4dba-921c-5fdc93d8211c",
   "metadata": {},
   "outputs": [],
   "source": []
  }
 ],
 "metadata": {
  "kernelspec": {
   "display_name": "Python 3 (ipykernel)",
   "language": "python",
   "name": "python3"
  },
  "language_info": {
   "codemirror_mode": {
    "name": "ipython",
    "version": 3
   },
   "file_extension": ".py",
   "mimetype": "text/x-python",
   "name": "python",
   "nbconvert_exporter": "python",
   "pygments_lexer": "ipython3",
   "version": "3.12.0"
  }
 },
 "nbformat": 4,
 "nbformat_minor": 5
}
