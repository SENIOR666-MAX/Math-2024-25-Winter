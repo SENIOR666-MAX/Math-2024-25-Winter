{
  "nbformat": 4,
  "nbformat_minor": 0,
  "metadata": {
    "colab": {
      "provenance": []
    },
    "kernelspec": {
      "name": "python3",
      "display_name": "Python 3"
    },
    "language_info": {
      "name": "python"
    }
  },
  "cells": [
    {
      "cell_type": "code",
      "source": [
        "# The line passes through points  A(1,2)  and  B(3,4) . Find the equation of the line\n",
        "\n",
        "https://www.geogebra.org/calculator/fn6qkfxx\n"
      ],
      "metadata": {
        "id": "vpasQGjoOTSK"
      },
      "execution_count": null,
      "outputs": []
    },
    {
      "cell_type": "code",
      "source": [
        "# The line passes through point  A(1,2)  and is parallel to the line  y=2x+3 . Find the equation of the line\n",
        "\n",
        "https://www.geogebra.org/calculator/qhww6zex"
      ],
      "metadata": {
        "id": "_ohscen-PSJB"
      },
      "execution_count": null,
      "outputs": []
    },
    {
      "cell_type": "code",
      "source": [
        "# The line passes through point  A(1,2)  and is perpendicular to the line  y=2x+3 . Find the equation of the line\n",
        "\n",
        "https://www.geogebra.org/calculator/qjucq4yy"
      ],
      "metadata": {
        "id": "KBPnCxPdQLCy"
      },
      "execution_count": null,
      "outputs": []
    },
    {
      "cell_type": "code",
      "source": [
        "# We have two lines  y=2x+3  and  y=3x+2 . Find the intersection point of these lines and calculate the angle between them\n",
        "\n",
        "https://www.geogebra.org/calculator/yg8qbcg8"
      ],
      "metadata": {
        "id": "wIdoEzH4QPW5"
      },
      "execution_count": null,
      "outputs": []
    },
    {
      "cell_type": "code",
      "source": [
        "# Write the equation of the line passing through point  A(1,2)  and parallel to the vector  v⃗ =[2,3]\n",
        "\n",
        "https://www.geogebra.org/calculator/wwhspzwy"
      ],
      "metadata": {
        "id": "G9nrwFIVQmFE"
      },
      "execution_count": null,
      "outputs": []
    },
    {
      "cell_type": "code",
      "source": [
        "# We have the line  y=2x+3 . Find an example of a line perpendicular and parallel to it\n",
        "\n",
        "https://www.geogebra.org/calculator/au8uxzuc"
      ],
      "metadata": {
        "id": "xYGgdmALQwQL"
      },
      "execution_count": null,
      "outputs": []
    },
    {
      "cell_type": "code",
      "source": [
        "# We have the line  y=2x+3  and point  A(1,2) . Find the distance from point  A  to the line\n",
        "\n",
        "https://www.geogebra.org/calculator/zfhmep52"
      ],
      "metadata": {
        "id": "N0iomufKRAjf"
      },
      "execution_count": null,
      "outputs": []
    },
    {
      "cell_type": "code",
      "source": [
        "# The line intersects the coordinate axes at points  A(2,0)  and  B(0,3) . Find the equation of the line\n",
        "\n",
        "https://www.geogebra.org/calculator/jdncykxx"
      ],
      "metadata": {
        "id": "FUQ8Kl6ERTy0"
      },
      "execution_count": null,
      "outputs": []
    },
    {
      "cell_type": "code",
      "source": [
        "# Calculate the angle between the line  y=x+3  and the  Ox  axis\n",
        "https://www.geogebra.org/calculator/uw4jea9f"
      ],
      "metadata": {
        "id": "1MFp5gUGRZfJ"
      },
      "execution_count": null,
      "outputs": []
    },
    {
      "cell_type": "code",
      "source": [
        "# Provide a vector perpendicular to the line x+y+1=0\n",
        "\n",
        "https://www.geogebra.org/calculator/d9rrk34z"
      ],
      "metadata": {
        "id": "Nfi6YrYgRhSG"
      },
      "execution_count": null,
      "outputs": []
    }
  ]
}