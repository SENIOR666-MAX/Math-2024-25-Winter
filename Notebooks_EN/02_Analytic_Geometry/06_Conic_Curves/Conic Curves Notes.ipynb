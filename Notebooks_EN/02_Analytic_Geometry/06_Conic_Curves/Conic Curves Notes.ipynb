{
 "cells": [
  {
   "cell_type": "markdown",
   "id": "e4ff8e98",
   "metadata": {},
   "source": [
    "# Conic Curves\n",
    "\n"
   ]
  },
  {
   "cell_type": "markdown",
   "id": "8769f335",
   "metadata": {},
   "source": [
    "\n",
    "## Introduction to Conic Curves\n",
    "\n",
    "Conic curves (or conic sections) are the curves obtained by intersecting a plane with a double-napped cone. Depending on the angle of intersection, different types of curves can be formed:\n",
    "- **Circle**\n",
    "- **Ellipse**\n",
    "- **Parabola**\n",
    "- **Hyperbola**\n",
    "\n",
    "These curves are widely used in geometry, physics, astronomy, and engineering. This notebook provides an overview of the equations and properties of these curves.\n"
   ]
  },
  {
   "cell_type": "markdown",
   "id": "7dc64ea3",
   "metadata": {},
   "source": [
    "\n",
    "## Circle\n",
    "\n",
    "A circle is the set of all points in a plane that are equidistant from a given point, called the center.\n",
    "\n",
    "### Standard Equation\n",
    "\\[\n",
    "(x - h)^2 + (y - k)^2 = r^2\n",
    "\\]\n",
    "Where:\n",
    "- \\( (h, k) \\) is the center of the circle.\n",
    "- \\( r \\) is the radius of the circle.\n",
    "\n",
    "### Example\n",
    "For a circle with center \\( (0, 0) \\) and radius \\( 5 \\), the equation is:\n",
    "\\[\n",
    "x^2 + y^2 = 25\n",
    "\\]\n"
   ]
  },
  {
   "cell_type": "markdown",
   "id": "4d3d76e7",
   "metadata": {},
   "source": [
    "\n",
    "## Ellipse\n",
    "\n",
    "An ellipse is the set of all points such that the sum of the distances from two fixed points (foci) is constant.\n",
    "\n",
    "### Standard Equation\n",
    "For a horizontal ellipse:\n",
    "\\[\n",
    "\\frac{(x - h)^2}{a^2} + \\frac{(y - k)^2}{b^2} = 1\n",
    "\\]\n",
    "Where:\n",
    "- \\( a \\) is the semi-major axis.\n",
    "- \\( b \\) is the semi-minor axis.\n",
    "- \\( (h, k) \\) is the center.\n",
    "\n",
    "### Example\n",
    "For an ellipse with center \\( (0, 0) \\), \\( a = 5 \\), and \\( b = 3 \\):\n",
    "\\[\n",
    "\\frac{x^2}{25} + \\frac{y^2}{9} = 1\n",
    "\\]\n"
   ]
  },
  {
   "cell_type": "markdown",
   "id": "216d28b8",
   "metadata": {},
   "source": [
    "\n",
    "## Parabola\n",
    "\n",
    "A parabola is the set of all points equidistant from a fixed point (focus) and a line (directrix).\n",
    "\n",
    "### Standard Equation\n",
    "For a parabola that opens upwards:\n",
    "\\[\n",
    "y - k = 4p(x - h)^2\n",
    "\\]\n",
    "Where:\n",
    "- \\( (h, k) \\) is the vertex.\n",
    "- \\( p \\) is the distance from the vertex to the focus.\n",
    "\n",
    "### Example\n",
    "For a parabola with vertex \\( (0, 0) \\) and \\( p = 2 \\):\n",
    "\\[\n",
    "y = 8x^2\n",
    "\\]\n"
   ]
  },
  {
   "cell_type": "markdown",
   "id": "b6315837",
   "metadata": {},
   "source": [
    "\n",
    "## Hyperbola\n",
    "\n",
    "A hyperbola is the set of all points such that the absolute difference of the distances from two fixed points (foci) is constant.\n",
    "\n",
    "### Standard Equation\n",
    "For a horizontal hyperbola:\n",
    "\\[\n",
    "\\frac{(x - h)^2}{a^2} - \\frac{(y - k)^2}{b^2} = 1\n",
    "\\]\n",
    "Where:\n",
    "- \\( a \\) is the distance from the center to the vertices.\n",
    "- \\( b \\) is related to the distance from the center to the asymptotes.\n",
    "- \\( (h, k) \\) is the center.\n",
    "\n",
    "### Example\n",
    "For a hyperbola with center \\( (0, 0) \\), \\( a = 4 \\), and \\( b = 3 \\):\n",
    "\\[\n",
    "\\frac{x^2}{16} - \\frac{y^2}{9} = 1\n",
    "\\]\n"
   ]
  },
  {
   "cell_type": "code",
   "execution_count": null,
   "id": "6e3de3fa",
   "metadata": {},
   "outputs": [],
   "source": [
    "\n",
    "# Plotting a Circle\n",
    "import numpy as np\n",
    "import matplotlib.pyplot as plt\n",
    "\n",
    "# Parameters\n",
    "h, k = 0, 0  # Center\n",
    "r = 5        # Radius\n",
    "\n",
    "# Generate circle points\n",
    "theta = np.linspace(0, 2 * np.pi, 100)\n",
    "x = h + r * np.cos(theta)\n",
    "y = k + r * np.sin(theta)\n",
    "\n",
    "# Plot\n",
    "plt.figure(figsize=(6, 6))\n",
    "plt.plot(x, y, label=\"Circle: x^2 + y^2 = 25\")\n",
    "plt.axhline(0, color='black',linewidth=0.5)\n",
    "plt.axvline(0, color='black',linewidth=0.5)\n",
    "plt.gca().set_aspect('equal', adjustable='box')\n",
    "plt.legend()\n",
    "plt.grid()\n",
    "plt.show()\n"
   ]
  }
 ],
 "metadata": {
  "kernelspec": {
   "display_name": "Python 3 (ipykernel)",
   "language": "python",
   "name": "python3"
  },
  "language_info": {
   "codemirror_mode": {
    "name": "ipython",
    "version": 3
   },
   "file_extension": ".py",
   "mimetype": "text/x-python",
   "name": "python",
   "nbconvert_exporter": "python",
   "pygments_lexer": "ipython3",
   "version": "3.12.0"
  }
 },
 "nbformat": 4,
 "nbformat_minor": 5
}
