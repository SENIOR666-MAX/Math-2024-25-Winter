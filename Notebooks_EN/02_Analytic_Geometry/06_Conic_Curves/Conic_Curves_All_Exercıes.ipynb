{
  "nbformat": 4,
  "nbformat_minor": 0,
  "metadata": {
    "colab": {
      "provenance": []
    },
    "kernelspec": {
      "name": "python3",
      "display_name": "Python 3"
    },
    "language_info": {
      "name": "python"
    }
  },
  "cells": [
    {
      "cell_type": "code",
      "execution_count": 1,
      "metadata": {
        "colab": {
          "base_uri": "https://localhost:8080/"
        },
        "id": "Va0xAWuSSq0t",
        "outputId": "9531c949-8a6b-4048-9526-7fd5d373c80f"
      },
      "outputs": [
        {
          "output_type": "stream",
          "name": "stdout",
          "text": [
            "Equation of the circle: Eq((x - 1)**2 + (y - 2)**2, 9)\n"
          ]
        }
      ],
      "source": [
        "# Find the equation of a circle with center at point A(1,2) and radius r=3\n",
        "\n",
        "from sympy import symbols, Eq\n",
        "\n",
        "# Define variables\n",
        "x, y = symbols('x y')\n",
        "\n",
        "# Center and radius\n",
        "center = (1, 2)\n",
        "radius = 3\n",
        "\n",
        "# Circle equation\n",
        "circle_eq = Eq((x - center[0])**2 + (y - center[1])**2, radius**2)\n",
        "print(\"Equation of the circle:\", circle_eq)\n"
      ]
    },
    {
      "cell_type": "code",
      "source": [
        "# Find the equation of a parabola intersecting the $Ox$ axis at points $x=2$, $x=4$, and passing through point $y(3)=1$\n",
        "\n",
        "from sympy import solve\n",
        "\n",
        "# Define variables\n",
        "a, x, y = symbols('a x y')\n",
        "\n",
        "# Parabola general equation: y = a * (x - root1) * (x - root2)\n",
        "root1, root2 = 2, 4\n",
        "parabola_eq = Eq(y, a * (x - root1) * (x - root2))\n",
        "\n",
        "# Solve for 'a' using point (3, 1)\n",
        "a_value = solve(parabola_eq.subs({x: 3, y: 1}), a)[0]\n",
        "\n",
        "# Parabola equation with determined 'a'\n",
        "parabola_eq = parabola_eq.subs(a, a_value)\n",
        "print(\"Equation of the parabola:\", parabola_eq)\n"
      ],
      "metadata": {
        "colab": {
          "base_uri": "https://localhost:8080/"
        },
        "id": "vCuVYO9WTs8x",
        "outputId": "2eeeea6a-5d7d-4ec3-e30c-436416b58707"
      },
      "execution_count": 2,
      "outputs": [
        {
          "output_type": "stream",
          "name": "stdout",
          "text": [
            "Equation of the parabola: Eq(y, -(x - 4)*(x - 2))\n"
          ]
        }
      ]
    },
    {
      "cell_type": "code",
      "source": [
        "# Find the center of the ellipse with the equation $x^2 + 4y^2 - 4x - 16y + 16 = 0$\n",
        "\n",
        "from sympy import simplify\n",
        "\n",
        "# Ellipse equation\n",
        "ellipse_eq = Eq(x**2 + 4*y**2 - 4*x - 16*y + 16, 0)\n",
        "\n",
        "# Complete the square for x and y\n",
        "ellipse_eq = ellipse_eq.expand()\n",
        "x_part = (x - 2)**2 - 4  # Completing square for x\n",
        "y_part = (2*y - 4)**2 / 4 - 4  # Completing square for y\n",
        "simplified_eq = Eq(x_part + y_part, 4)\n",
        "\n",
        "# Extract the center\n",
        "center_x, center_y = 2, 2  # From the completed square\n",
        "print(\"Center of the ellipse:\", (center_x, center_y))\n"
      ],
      "metadata": {
        "colab": {
          "base_uri": "https://localhost:8080/"
        },
        "id": "ecQZK1V0T-gR",
        "outputId": "8c02af23-136c-40ad-9789-b4e6729ff957"
      },
      "execution_count": 3,
      "outputs": [
        {
          "output_type": "stream",
          "name": "stdout",
          "text": [
            "Center of the ellipse: (2, 2)\n"
          ]
        }
      ]
    },
    {
      "cell_type": "code",
      "source": [
        "# Find the slope ($m>0$) of the line $y=mx-5$ that is tangent to the circle with the equation $x^2 + y^2=1$\n",
        "\n",
        "# Circle equation\n",
        "circle_eq = Eq(x**2 + y**2, 1)\n",
        "\n",
        "# Line equation\n",
        "m = symbols('m')\n",
        "line_eq = Eq(y, m*x - 5)\n",
        "\n",
        "# Solve for tangency (discriminant = 0)\n",
        "combined_eq = circle_eq.subs(y, m*x - 5)\n",
        "quadratic = combined_eq.expand()\n",
        "discriminant = quadratic.as_poly().discriminant(x)\n",
        "m_value = solve(Eq(discriminant, 0), m)\n",
        "\n",
        "# Filter positive m\n",
        "m_positive = [val for val in m_value if val > 0]\n",
        "print(\"Positive slope m:\", m_positive)"
      ],
      "metadata": {
        "id": "O-lKx9WMUBO0"
      },
      "execution_count": null,
      "outputs": []
    },
    {
      "cell_type": "code",
      "source": [
        "# Find the intersection points of the hyperbola $x^2 - y^2 = 1$ with the ellipse's line $x^2 + 4y^2 = 6$\n",
        "from sympy import symbols, Eq, solve\n",
        "\n",
        "# Define symbols\n",
        "x, y = symbols('x y')\n",
        "# Define equations\n",
        "hyperbola_eq = Eq(x**2 - y**2, 1)\n",
        "ellipse_eq = Eq(x**2 + 4*y**2, 6)\n",
        "\n",
        "# Solve the system of equations\n",
        "intersection_points = solve([hyperbola_eq, ellipse_eq], (x, y))\n",
        "print(\"Intersection points:\", intersection_points)\n"
      ],
      "metadata": {
        "colab": {
          "base_uri": "https://localhost:8080/"
        },
        "id": "uOmsz-fFUJ3r",
        "outputId": "81078fdb-fecb-4ecd-a083-2dac58bcd1e4"
      },
      "execution_count": 5,
      "outputs": [
        {
          "output_type": "stream",
          "name": "stdout",
          "text": [
            "Intersection points: [(-sqrt(2), -1), (-sqrt(2), 1), (sqrt(2), -1), (sqrt(2), 1)]\n"
          ]
        }
      ]
    },
    {
      "cell_type": "code",
      "source": [
        "# For the given hyperbola $x^2 - y^2 = 1$, find the distance between its branches\n",
        "\n",
        "from sympy import sqrt\n",
        "\n",
        "# Hyperbola equation: x^2 - y^2 = 1\n",
        "# Distance between branches = 2c where c = sqrt(a^2 + b^2)\n",
        "a = 1  # Coefficient of x^2\n",
        "b = 1  # Coefficient of y^2\n",
        "distance = 2 * sqrt(a + b)\n",
        "print(\"Distance between branches:\", distance)\n"
      ],
      "metadata": {
        "colab": {
          "base_uri": "https://localhost:8080/"
        },
        "id": "I9rvOHhrUWhl",
        "outputId": "2fdf3b10-fcb8-4053-f4ef-76af00cb8476"
      },
      "execution_count": 6,
      "outputs": [
        {
          "output_type": "stream",
          "name": "stdout",
          "text": [
            "Distance between branches: 2*sqrt(2)\n"
          ]
        }
      ]
    }
  ]
}