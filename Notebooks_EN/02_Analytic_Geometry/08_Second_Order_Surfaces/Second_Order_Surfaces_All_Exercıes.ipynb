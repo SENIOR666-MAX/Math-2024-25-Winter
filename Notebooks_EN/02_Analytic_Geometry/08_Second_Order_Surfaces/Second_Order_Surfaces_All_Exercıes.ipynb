{
  "nbformat": 4,
  "nbformat_minor": 0,
  "metadata": {
    "colab": {
      "provenance": []
    },
    "kernelspec": {
      "name": "python3",
      "display_name": "Python 3"
    },
    "language_info": {
      "name": "python"
    }
  },
  "cells": [
    {
      "cell_type": "code",
      "execution_count": null,
      "metadata": {
        "id": "1FPYm-aLWGbR"
      },
      "outputs": [],
      "source": [
        "# Write the equation of a sphere with center at point $P=(1,2,3)$ and radius $r=3$\n",
        "\n",
        "https://www.geogebra.org/calculator/uh3c36nj"
      ]
    },
    {
      "cell_type": "code",
      "source": [
        "# Do the spheres with equations $x^2 + y^2 + z^2 = 1$ and $x^2 + y^2 + z^2 = 2$ have any common points?\n",
        "\n",
        "https://www.geogebra.org/calculator/hdghz7aa"
      ],
      "metadata": {
        "id": "dLIoZdILWdUf"
      },
      "execution_count": null,
      "outputs": []
    },
    {
      "cell_type": "code",
      "source": [
        "# What curve in space is formed by the intersection of the sphere $x^2 + y^2 + z^2 = 1$ with the sphere $(x-1)^2 + y^2 + z^2 = 1$? Find the equation of this curve\n",
        "\n",
        "https://www.geogebra.org/calculator/jy3mfwqm"
      ],
      "metadata": {
        "id": "PXu0LT7hWutr"
      },
      "execution_count": null,
      "outputs": []
    },
    {
      "cell_type": "code",
      "source": [
        "# Write the equation of the tangent plane to the paraboloid $z=(x-1)^2+y^2+1$ at point $P=(1,0,1)$\n",
        "\n",
        "https://www.geogebra.org/calculator/hhnkx4gq"
      ],
      "metadata": {
        "id": "68ulFzFLW6Wf"
      },
      "execution_count": null,
      "outputs": []
    }
  ]
}