{
  "nbformat": 4,
  "nbformat_minor": 0,
  "metadata": {
    "colab": {
      "provenance": []
    },
    "kernelspec": {
      "name": "python3",
      "display_name": "Python 3"
    },
    "language_info": {
      "name": "python"
    }
  },
  "cells": [
    {
      "cell_type": "code",
      "execution_count": 2,
      "metadata": {
        "colab": {
          "base_uri": "https://localhost:8080/"
        },
        "id": "ovs3jy0YUwcX",
        "outputId": "c4c37489-b654-476c-897b-97a1939ad4d5"
      },
      "outputs": [
        {
          "output_type": "stream",
          "name": "stdout",
          "text": [
            "Equation of the plane: Eq(4*x - 4*z + 8, 0)\n"
          ]
        }
      ],
      "source": [
        "# The plane passes through points $A(1, 2, 3)$, $B(3, 4, 5)$, and $C(2, 1, 4)$. Find the equation of the plane\n",
        "\n",
        "from sympy import symbols, Eq, solve, Matrix\n",
        "\n",
        "# Define variables\n",
        "x, y, z = symbols('x y z')\n",
        "\n",
        "# Points\n",
        "A = Matrix([1, 2, 3])\n",
        "B = Matrix([3, 4, 5])\n",
        "C = Matrix([2, 1, 4])\n",
        "\n",
        "# Vectors AB and AC\n",
        "AB = B - A\n",
        "AC = C - A\n",
        "\n",
        "# Normal vector to the plane\n",
        "normal_vector = AB.cross(AC)\n",
        "\n",
        "# Plane equation: normal_vector . (X - A) = 0\n",
        "plane_eq = Eq(normal_vector.dot(Matrix([x, y, z]) - A), 0)\n",
        "print(\"Equation of the plane:\", plane_eq)\n"
      ]
    },
    {
      "cell_type": "code",
      "source": [
        "# The plane passes through point $A(1, 2, 3)$ and is parallel to the plane $2x + 3y + 4z = 5$. Find the equation of the plane\n",
        "\n",
        "# Normal vector of the parallel plane is the same\n",
        "normal_vector = Matrix([2, 3, 4])\n",
        "\n",
        "# Equation of the plane passing through A\n",
        "plane_eq = Eq(normal_vector.dot(Matrix([x, y, z]) - A), 0)\n",
        "print(\"Equation of the plane:\", plane_eq)\n"
      ],
      "metadata": {
        "colab": {
          "base_uri": "https://localhost:8080/"
        },
        "id": "8hVub-5IU3Gm",
        "outputId": "9d1ef2f0-6993-422e-e077-db68277de75b"
      },
      "execution_count": 3,
      "outputs": [
        {
          "output_type": "stream",
          "name": "stdout",
          "text": [
            "Equation of the plane: Eq(2*x + 3*y + 4*z - 20, 0)\n"
          ]
        }
      ]
    },
    {
      "cell_type": "code",
      "source": [
        "# The plane passes through point $A(1, 2, 3)$ and is perpendicular to the normal vector $\\vec{n} = [2, 3, 4]$. Find the equation of the plane\n",
        "\n",
        "# Perpendicular means the same normal vector as the given\n",
        "normal_vector = Matrix([2, 3, 4])\n",
        "\n",
        "# Plane equation\n",
        "plane_eq = Eq(normal_vector.dot(Matrix([x, y, z]) - A), 0)\n",
        "print(\"Equation of the plane:\", plane_eq)\n"
      ],
      "metadata": {
        "colab": {
          "base_uri": "https://localhost:8080/"
        },
        "id": "XrtchmW5VG7t",
        "outputId": "31dfa417-0929-4dcc-a45c-6c81c3ec0f77"
      },
      "execution_count": 4,
      "outputs": [
        {
          "output_type": "stream",
          "name": "stdout",
          "text": [
            "Equation of the plane: Eq(2*x + 3*y + 4*z - 20, 0)\n"
          ]
        }
      ]
    },
    {
      "cell_type": "code",
      "source": [
        "# We have two planes $2x + 3y + 4z = 5$ and $3x + 4y + 2z = 6$. Find the line of intersection of these planes\n",
        "\n",
        "# Plane equations\n",
        "plane1 = Eq(2*x + 3*y + 4*z, 5)\n",
        "plane2 = Eq(3*x + 4*y + 2*z, 6)\n",
        "\n",
        "# Solve system of equations for line of intersection\n",
        "solution = solve([plane1, plane2], (y, z))\n",
        "print(\"Line of intersection:\", solution)"
      ],
      "metadata": {
        "colab": {
          "base_uri": "https://localhost:8080/"
        },
        "id": "v-fKd3xQVHEJ",
        "outputId": "b727bf4a-2fe2-4db9-82f1-030b3db69505"
      },
      "execution_count": 5,
      "outputs": [
        {
          "output_type": "stream",
          "name": "stdout",
          "text": [
            "Line of intersection: {y: 7/5 - 4*x/5, z: x/10 + 1/5}\n"
          ]
        }
      ]
    },
    {
      "cell_type": "code",
      "source": [
        "# Write the equation of the plane passing through point $A(1, 2, 3)$ and parallel to vectors $\\vec{v_1} = [1, 0, 1]$ and $\\vec{v_2} = [0, 1, -1]$\n",
        "\n",
        "# Define vectors\n",
        "v1 = Matrix([1, 0, 1])\n",
        "v2 = Matrix([0, 1, -1])\n",
        "\n",
        "# Normal vector to the plane\n",
        "normal_vector = v1.cross(v2)\n",
        "\n",
        "# Plane equation\n",
        "plane_eq = Eq(normal_vector.dot(Matrix([x, y, z]) - A), 0)\n",
        "print(\"Equation of the plane:\", plane_eq)\n"
      ],
      "metadata": {
        "colab": {
          "base_uri": "https://localhost:8080/"
        },
        "id": "rgIYXneuVHL3",
        "outputId": "e552b916-3623-4fc9-8df9-a56834ba5830"
      },
      "execution_count": 6,
      "outputs": [
        {
          "output_type": "stream",
          "name": "stdout",
          "text": [
            "Equation of the plane: Eq(-x + y + z - 4, 0)\n"
          ]
        }
      ]
    },
    {
      "cell_type": "code",
      "source": [
        "# We have the plane $2x + 3y + 4z = 5$. Find an example of a plane parallel and perpendicular to it\n",
        "\n",
        "# Parallel plane has the same normal vector but a different constant\n",
        "parallel_plane = Eq(2*x + 3*y + 4*z, 10)\n",
        "print(\"Parallel plane:\", parallel_plane)\n",
        "\n",
        "# Perpendicular plane normal vector is perpendicular to [2, 3, 4]\n",
        "perpendicular_normal = Matrix([3, -2, 0])  # Example\n",
        "perpendicular_plane = Eq(perpendicular_normal.dot(Matrix([x, y, z])), 0)\n",
        "print(\"Perpendicular plane:\", perpendicular_plane)\n"
      ],
      "metadata": {
        "colab": {
          "base_uri": "https://localhost:8080/"
        },
        "id": "mbsDLtIpVHTS",
        "outputId": "f62b5443-a257-4e36-e1b1-9bf52aeb8af3"
      },
      "execution_count": 7,
      "outputs": [
        {
          "output_type": "stream",
          "name": "stdout",
          "text": [
            "Parallel plane: Eq(2*x + 3*y + 4*z, 10)\n",
            "Perpendicular plane: Eq(3*x - 2*y, 0)\n"
          ]
        }
      ]
    },
    {
      "cell_type": "code",
      "source": [
        "# We have the plane $2x + 3y + 4z = 5$ and point $A(1, 2, 3)$. Find the distance from point $A$ to this plane\n",
        "\n",
        "from sympy import Abs, sqrt\n",
        "\n",
        "# Plane equation coefficients\n",
        "a, b, c, d = 2, 3, 4, -5\n",
        "\n",
        "# Point A\n",
        "x1, y1, z1 = 1, 2, 3\n",
        "\n",
        "# Distance formula\n",
        "distance = Abs(a*x1 + b*y1 + c*z1 + d) / sqrt(a**2 + b**2 + c**2)\n",
        "print(\"Distance from A to the plane:\", distance)\n"
      ],
      "metadata": {
        "colab": {
          "base_uri": "https://localhost:8080/"
        },
        "id": "s0JW4wxbVgqz",
        "outputId": "08a1812c-3f62-40e5-dac5-ee9e81906a89"
      },
      "execution_count": 8,
      "outputs": [
        {
          "output_type": "stream",
          "name": "stdout",
          "text": [
            "Distance from A to the plane: 15*sqrt(29)/29\n"
          ]
        }
      ]
    },
    {
      "cell_type": "code",
      "source": [
        "# The plane intersects the coordinate axes at points $A(2, 0, 0)$, $B(0, 3, 0)$, and $C(0, 0, 4)$. Find the equation of the plane\n",
        "\n",
        "# Points\n",
        "A = Matrix([2, 0, 0])\n",
        "B = Matrix([0, 3, 0])\n",
        "C = Matrix([0, 0, 4])\n",
        "\n",
        "# Vectors AB and AC\n",
        "AB = B - A\n",
        "AC = C - A\n",
        "\n",
        "# Normal vector\n",
        "normal_vector = AB.cross(AC)\n",
        "\n",
        "# Plane equation\n",
        "plane_eq = Eq(normal_vector.dot(Matrix([x, y, z]) - A), 0)\n",
        "print(\"Equation of the plane:\", plane_eq)\n"
      ],
      "metadata": {
        "colab": {
          "base_uri": "https://localhost:8080/"
        },
        "id": "6KLxVKgzVlpp",
        "outputId": "ced4a796-6ee3-40ab-a976-6854afe2ab52"
      },
      "execution_count": 9,
      "outputs": [
        {
          "output_type": "stream",
          "name": "stdout",
          "text": [
            "Equation of the plane: Eq(12*x + 8*y + 6*z - 24, 0)\n"
          ]
        }
      ]
    },
    {
      "cell_type": "code",
      "source": [
        "# Calculate the angle between the plane $x + y + z = 1$ and the plane $x = 0$ (i.e., the $yz$ plane)\n",
        "\n",
        "from sympy import acos, pi\n",
        "\n",
        "# Normal vectors\n",
        "n1 = Matrix([1, 1, 1])\n",
        "n2 = Matrix([1, 0, 0])\n",
        "\n",
        "# Angle formula\n",
        "angle = acos(n1.dot(n2) / (n1.norm() * n2.norm()))\n",
        "print(\"Angle between planes:\", angle * 180 / pi, \"degrees\")\n"
      ],
      "metadata": {
        "colab": {
          "base_uri": "https://localhost:8080/"
        },
        "id": "oo-jsPmWVqYh",
        "outputId": "e6dd8af6-dd8f-4e81-d2ec-20e303f21273"
      },
      "execution_count": 10,
      "outputs": [
        {
          "output_type": "stream",
          "name": "stdout",
          "text": [
            "Angle between planes: 180*acos(sqrt(3)/3)/pi degrees\n"
          ]
        }
      ]
    },
    {
      "cell_type": "code",
      "source": [
        "# Find the vector perpendicular to the plane $x + y + z = 1$\n",
        "\n",
        "# Normal vector of the plane\n",
        "perpendicular_vector = Matrix([1, 1, 1])\n",
        "print(\"Perpendicular vector:\", perpendicular_vector)"
      ],
      "metadata": {
        "colab": {
          "base_uri": "https://localhost:8080/"
        },
        "id": "myd2TyBAVtTz",
        "outputId": "8ba77947-d0a9-4f9f-a061-867d8a9003c7"
      },
      "execution_count": 11,
      "outputs": [
        {
          "output_type": "stream",
          "name": "stdout",
          "text": [
            "Perpendicular vector: Matrix([[1], [1], [1]])\n"
          ]
        }
      ]
    }
  ]
}