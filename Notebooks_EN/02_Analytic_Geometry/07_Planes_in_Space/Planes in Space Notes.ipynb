{
 "cells": [
  {
   "cell_type": "markdown",
   "id": "c0ef53af",
   "metadata": {},
   "source": [
    "# Planes in Space\n",
    "\n"
   ]
  },
  {
   "cell_type": "markdown",
   "id": "8edee6c1",
   "metadata": {},
   "source": [
    "\n",
    "## Introduction to Planes in Space\n",
    "\n",
    "In 3D geometry, a plane is a flat, two-dimensional surface that extends infinitely in space. A plane can be defined in various ways:\n",
    "- Using a point and a normal vector.\n",
    "- Using three points that are not collinear.\n",
    "\n",
    "This notebook provides an overview of the standard equation of a plane, its properties, and methods to solve related problems.\n"
   ]
  },
  {
   "cell_type": "markdown",
   "id": "75df4914",
   "metadata": {},
   "source": [
    "\n",
    "## Equation of a Plane\n",
    "\n",
    "The general equation of a plane is:\n",
    "\\[\n",
    "Ax + By + Cz + D = 0\n",
    "\\]\n",
    "Where:\n",
    "- \\( A, B, C \\) are the components of the normal vector \\( \\vec{n} = (A, B, C) \\).\n",
    "- \\( D \\) is a constant.\n",
    "\n",
    "### Point-Normal Form\n",
    "If a plane passes through a point \\( (x_1, y_1, z_1) \\) and has a normal vector \\( \\vec{n} = (A, B, C) \\), its equation is:\n",
    "\\[\n",
    "A(x - x_1) + B(y - y_1) + C(z - z_1) = 0\n",
    "\\]\n",
    "\n",
    "### Example\n",
    "Find the equation of a plane passing through \\( (1, 2, 3) \\) with a normal vector \\( \\vec{n} = (2, -3, 4) \\):\n",
    "\\[\n",
    "2(x - 1) - 3(y - 2) + 4(z - 3) = 0\n",
    "\\]\n",
    "Simplify:\n",
    "\\[\n",
    "2x - 3y + 4z - 20 = 0\n",
    "\\]\n"
   ]
  },
  {
   "cell_type": "markdown",
   "id": "41e1e3ee",
   "metadata": {},
   "source": [
    "\n",
    "## Distance from a Point to a Plane\n",
    "\n",
    "The distance \\( d \\) from a point \\( (x_1, y_1, z_1) \\) to a plane \\( Ax + By + Cz + D = 0 \\) is given by:\n",
    "\\[\n",
    "d = \\frac{|Ax_1 + By_1 + Cz_1 + D|}{\\sqrt{A^2 + B^2 + C^2}}\n",
    "\\]\n",
    "\n",
    "### Example\n",
    "Find the distance from the point \\( (1, 2, 3) \\) to the plane \\( 2x - 3y + 4z - 20 = 0 \\):\n",
    "1. Substitute \\( (x_1, y_1, z_1) = (1, 2, 3) \\) into the equation:\n",
    "\\[\n",
    "d = \\frac{|2(1) - 3(2) + 4(3) - 20|}{\\sqrt{2^2 + (-3)^2 + 4^2}}\n",
    "\\]\n",
    "2. Simplify:\n",
    "\\[\n",
    "d = \\frac{|2 - 6 + 12 - 20|}{\\sqrt{4 + 9 + 16}} = \\frac{12}{\\sqrt{29}}\n",
    "\\]\n"
   ]
  },
  {
   "cell_type": "markdown",
   "id": "dcb0ee49",
   "metadata": {},
   "source": [
    "\n",
    "## Intersection of Two Planes\n",
    "\n",
    "When two planes intersect, they form a line. To find the line of intersection, solve the equations of the planes simultaneously.\n",
    "\n",
    "### Example\n",
    "Find the intersection of the planes:\n",
    "1. \\( x + y + z = 6 \\)\n",
    "2. \\( 2x - y + 3z = 14 \\)\n",
    "\n",
    "Substitute one equation into the other to find the parametric equation of the line.\n"
   ]
  },
  {
   "cell_type": "code",
   "execution_count": null,
   "id": "a34b70d2",
   "metadata": {},
   "outputs": [],
   "source": [
    "\n",
    "# Example: Finding the distance from a point to a plane\n",
    "import numpy as np\n",
    "\n",
    "# Coefficients of the plane equation: Ax + By + Cz + D = 0\n",
    "A, B, C, D = 2, -3, 4, -20\n",
    "\n",
    "# Coordinates of the point\n",
    "x1, y1, z1 = 1, 2, 3\n",
    "\n",
    "# Calculate the distance\n",
    "numerator = abs(A * x1 + B * y1 + C * z1 + D)\n",
    "denominator = np.sqrt(A**2 + B**2 + C**2)\n",
    "distance = numerator / denominator\n",
    "\n",
    "print(f\"The distance from the point (1, 2, 3) to the plane 2x - 3y + 4z - 20 = 0 is: {distance:.2f}\")\n"
   ]
  }
 ],
 "metadata": {},
 "nbformat": 4,
 "nbformat_minor": 5
}
