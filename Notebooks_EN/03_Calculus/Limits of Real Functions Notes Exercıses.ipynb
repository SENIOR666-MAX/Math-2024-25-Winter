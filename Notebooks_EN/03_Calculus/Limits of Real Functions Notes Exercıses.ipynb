{
  "cells": [
    {
      "cell_type": "markdown",
      "id": "ecc6e0d6",
      "metadata": {
        "id": "ecc6e0d6"
      },
      "source": [
        "# Limits of Real Functions\n",
        "\n"
      ]
    },
    {
      "cell_type": "markdown",
      "id": "de523a34",
      "metadata": {
        "id": "de523a34"
      },
      "source": [
        "\n",
        "## Introduction to Limits of Real Functions\n",
        "\n",
        "The limit of a real function describes the behavior of the function as the input approaches a particular value.\n",
        "\n",
        "### Definition\n",
        "Let \\( f(x) \\) be a function defined on an open interval around \\( c \\), except possibly at \\( c \\). We say:\n",
        "\\[\n",
        "\\lim_{x \\to c} f(x) = L\n",
        "\\]\n",
        "if for every \\( \\epsilon > 0 \\), there exists \\( \\delta > 0 \\) such that:\n",
        "\\[\n",
        "0 < |x - c| < \\delta \\implies |f(x) - L| < \\epsilon\n",
        "\\]\n",
        "\n",
        "### Types of Limits:\n",
        "1. **Finite Limits**: The function approaches a specific finite value.\n",
        "2. **Infinite Limits**: The function grows arbitrarily large or small as \\( x \\) approaches \\( c \\).\n",
        "3. **One-Sided Limits**:\n",
        "   - Left-hand limit (\\( \\lim_{x \\to c^-} \\)).\n",
        "   - Right-hand limit (\\( \\lim_{x \\to c^+} \\)).\n",
        "\n",
        "This notebook provides examples of these types of limits with visualizations.\n"
      ]
    },
    {
      "cell_type": "markdown",
      "id": "4bfa414e",
      "metadata": {
        "id": "4bfa414e"
      },
      "source": [
        "\n",
        "## Examples of Limits\n",
        "\n",
        "### Example 1: Finite Limit\n",
        "For the function \\( f(x) = 2x + 1 \\), find:\n",
        "\\[\n",
        "\\lim_{x \\to 3} f(x)\n",
        "\\]\n",
        "Solution: Substitute \\( x = 3 \\):\n",
        "\\[\n",
        "f(3) = 2(3) + 1 = 7\n",
        "\\]\n",
        "\n",
        "### Example 2: Infinite Limit\n",
        "For the function \\( f(x) = \\frac{1}{x} \\), find:\n",
        "\\[\n",
        "\\lim_{x \\to 0^+} f(x) \\quad \text{and} \\quad \\lim_{x \\to 0^-} f(x)\n",
        "\\]\n",
        "Solution:\n",
        "\\[\n",
        "\\lim_{x \\to 0^+} \\frac{1}{x} = +\\infty, \\quad \\lim_{x \\to 0^-} \\frac{1}{x} = -\\infty\n",
        "\\]\n",
        "\n",
        "### Example 3: One-Sided Limit\n",
        "For the function:\n",
        "\\[\n",
        "f(x) =\n",
        "\\begin{cases}\n",
        "x^2 & \text{if } x < 1 \\\\\n",
        "2x - 1 & \text{if } x \\geq 1\n",
        "\\end{cases}\n",
        "\\]\n",
        "Find:\n",
        "\\[\n",
        "\\lim_{x \\to 1^-} f(x) \\quad \text{and} \\quad \\lim_{x \\to 1^+} f(x)\n",
        "\\]\n",
        "Solution:\n",
        "\\[\n",
        "\\lim_{x \\to 1^-} f(x) = 1^2 = 1, \\quad \\lim_{x \\to 1^+} f(x) = 2(1) - 1 = 1\n",
        "\\]\n",
        "Since the left-hand and right-hand limits are equal, \\( \\lim_{x \\to 1} f(x) = 1 \\).\n"
      ]
    },
    {
      "cell_type": "code",
      "execution_count": null,
      "id": "58c318e0",
      "metadata": {
        "id": "58c318e0"
      },
      "outputs": [],
      "source": [
        "\n",
        "import numpy as np\n",
        "import matplotlib.pyplot as plt\n",
        "\n",
        "# Define the piecewise function\n",
        "def f(x):\n",
        "    return np.where(x < 1, x**2, 2*x - 1)\n",
        "\n",
        "# Generate x values\n",
        "x = np.linspace(-2, 3, 400)\n",
        "y = f(x)\n",
        "\n",
        "# Plot the function\n",
        "plt.figure(figsize=(10, 6))\n",
        "plt.plot(x, y, label=r\"$f(x) = \begin{cases} x^2, & x < 1 \\\\ 2x - 1, & x \\geq 1 \\end{cases}$\", color='blue')\n",
        "plt.axvline(1, color='red', linestyle='--', linewidth=0.8, label=\"x = 1\")\n",
        "plt.axhline(1, color='green', linestyle='--', linewidth=0.8, label=\"y = 1 (Limit)\")\n",
        "\n",
        "# Add labels and legend\n",
        "plt.title(\"Visualization of Piecewise Function and Limits\", fontsize=14)\n",
        "plt.xlabel(\"x\", fontsize=12)\n",
        "plt.ylabel(\"f(x)\", fontsize=12)\n",
        "plt.legend(fontsize=12)\n",
        "plt.grid()\n",
        "plt.show()\n"
      ]
    },
    {
      "cell_type": "markdown",
      "id": "c70b6ac7",
      "metadata": {
        "id": "c70b6ac7"
      },
      "source": [
        "\n",
        "## Key Takeaways\n",
        "\n",
        "1. The limit of a function describes its behavior near a specific input value.\n",
        "2. **Finite limits** approach a specific value, while **infinite limits** grow arbitrarily large or small.\n",
        "3. **One-sided limits** consider the behavior of the function from one direction.\n",
        "4. Visualizing functions helps understand their limits and behavior.\n"
      ]
    },
    {
      "cell_type": "code",
      "source": [
        "from sympy import symbols, limit, sin, oo\n",
        "\n",
        "# Define variables\n",
        "x = symbols('x')\n",
        "\n",
        "# 1. Compute limit: lim x->∞ (x^2 + 2x) / (x^2 - 3x)\n",
        "expr1 = (x**2 + 2*x) / (x**2 - 3*x)\n",
        "lim1 = limit(expr1, x, oo)\n",
        "print(f\"1. The limit of (x^2 + 2x) / (x^2 - 3x) as x -> ∞ is: {lim1}\")\n",
        "\n",
        "# 2. Compute limit: lim x->0 sin(3x) / (2x + 1)\n",
        "expr2 = sin(3*x) / (2*x + 1)\n",
        "lim2 = limit(expr2, x, 0)\n",
        "print(f\"2. The limit of sin(3x) / (2x + 1) as x -> 0 is: {lim2}\")\n",
        "\n",
        "# 3. Find horizontal and vertical asymptotes of f(x) = (x^2 - 1) / (x^2 + 1)\n",
        "f_x = (x**2 - 1) / (x**2 + 1)\n",
        "\n",
        "# Horizontal asymptotes\n",
        "h_asymptote_positive = limit(f_x, x, oo)\n",
        "h_asymptote_negative = limit(f_x, x, -oo)\n",
        "print(f\"3. Horizontal asymptotes of f(x) = (x^2 - 1) / (x^2 + 1) are: y = {h_asymptote_positive} and y = {h_asymptote_negative}\")\n",
        "\n",
        "# Vertical asymptotes (denominator = 0)\n",
        "# Here, x^2 + 1 = 0 has no real solutions, so no vertical asymptotes\n",
        "print(\"3. No vertical asymptotes as the denominator x^2 + 1 is always > 0.\")\n",
        "\n",
        "# 4. Horizontal asymptotes of g(x) = sin(x) / (x^2 + 1)\n",
        "g_x = sin(x) / (x**2 + 1)\n",
        "h_asymptote_g_positive = limit(g_x, x, oo)\n",
        "h_asymptote_g_negative = limit(g_x, x, -oo)\n",
        "print(f\"4. Horizontal asymptotes of g(x) = sin(x) / (x^2 + 1) are: y = {h_asymptote_g_positive} and y = {h_asymptote_g_negative}\")\n",
        "\n",
        "# Vertical asymptotes for g(x): none since x^2 + 1 > 0\n",
        "print(\"4. No vertical asymptotes for g(x) as x^2 + 1 > 0.\")\n",
        "\n",
        "# 5. Find asymptotes of f(x) = (x^2 - 1) / (x^2 + 1)\n",
        "# Asymptotic line: y = ax + b\n",
        "a = limit(x / (x**2 + 1), x, oo)\n",
        "b = limit(f_x - a*x, x, oo)\n",
        "print(f\"5. The asymptotic line for f(x) is: y = {a}x + {b}\")"
      ],
      "metadata": {
        "colab": {
          "base_uri": "https://localhost:8080/"
        },
        "id": "zqz5WN0Y2eFq",
        "outputId": "3c4de338-b9a4-425c-c8ad-0b0f47f9b0cc"
      },
      "id": "zqz5WN0Y2eFq",
      "execution_count": 2,
      "outputs": [
        {
          "output_type": "stream",
          "name": "stdout",
          "text": [
            "1. The limit of (x^2 + 2x) / (x^2 - 3x) as x -> ∞ is: 1\n",
            "2. The limit of sin(3x) / (2x + 1) as x -> 0 is: 0\n",
            "3. Horizontal asymptotes of f(x) = (x^2 - 1) / (x^2 + 1) are: y = 1 and y = 1\n",
            "3. No vertical asymptotes as the denominator x^2 + 1 is always > 0.\n",
            "4. Horizontal asymptotes of g(x) = sin(x) / (x^2 + 1) are: y = 0 and y = 0\n",
            "4. No vertical asymptotes for g(x) as x^2 + 1 > 0.\n",
            "5. The asymptotic line for f(x) is: y = 0x + 1\n"
          ]
        }
      ]
    }
  ],
  "metadata": {
    "colab": {
      "provenance": []
    },
    "language_info": {
      "name": "python"
    },
    "kernelspec": {
      "name": "python3",
      "display_name": "Python 3"
    }
  },
  "nbformat": 4,
  "nbformat_minor": 5
}