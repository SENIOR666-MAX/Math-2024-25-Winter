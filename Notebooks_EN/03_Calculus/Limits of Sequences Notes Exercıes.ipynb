{
  "cells": [
    {
      "cell_type": "markdown",
      "id": "ebabf4ef",
      "metadata": {
        "id": "ebabf4ef"
      },
      "source": [
        "# Limits of Sequences\n",
        "\n"
      ]
    },
    {
      "cell_type": "markdown",
      "id": "df4b7e36",
      "metadata": {
        "id": "df4b7e36"
      },
      "source": [
        "\n",
        "## Introduction to Limits of Sequences\n",
        "\n",
        "The limit of a sequence describes the behavior of the terms of the sequence as the index approaches infinity.\n",
        "\n",
        "### Definition\n",
        "A sequence \\( a_n \\) has a limit \\( L \\) (written as \\( \\lim_{n \\to \\infty} a_n = L \\)) if, for any small positive number \\( \\epsilon \\), there exists a positive integer \\( N \\) such that for all \\( n > N \\), the terms of the sequence satisfy:\n",
        "\\[\n",
        "|a_n - L| < \\epsilon\n",
        "\\]\n",
        "\n",
        "If such an \\( L \\) exists, the sequence is said to converge. Otherwise, it diverges.\n",
        "\n",
        "### Examples of Common Limits\n",
        "1. \\( a_n = \\frac{1}{n} \\) converges to 0 as \\( n \\to \\infty \\).\n",
        "2. \\( a_n = (-1)^n \\) diverges as it oscillates between -1 and 1.\n",
        "3. \\( a_n = \\frac{n}{n+1} \\) converges to 1 as \\( n \\to \\infty \\).\n",
        "\n",
        "This notebook explores the limits of sequences through mathematical definitions, examples, and visualizations.\n"
      ]
    },
    {
      "cell_type": "markdown",
      "id": "8a8f20ad",
      "metadata": {
        "id": "8a8f20ad"
      },
      "source": [
        "\n",
        "## Convergent Sequences\n",
        "\n",
        "A sequence is said to converge if it approaches a specific finite value as \\( n \\to \\infty \\).\n",
        "\n",
        "### Example 1: \\( a_n = \\frac{1}{n} \\)\n",
        "This sequence approaches 0 as \\( n \\) increases.\n",
        "\n",
        "### Example 2: \\( a_n = \\frac{n}{n+1} \\)\n",
        "This sequence approaches 1 as \\( n \\) increases.\n"
      ]
    },
    {
      "cell_type": "markdown",
      "id": "d7728d05",
      "metadata": {
        "id": "d7728d05"
      },
      "source": [
        "\n",
        "## Divergent Sequences\n",
        "\n",
        "A sequence is said to diverge if it does not approach a specific finite value as \\( n \\to \\infty \\).\n",
        "\n",
        "### Example 1: \\( a_n = (-1)^n \\)\n",
        "This sequence oscillates between -1 and 1 and does not settle to a single value.\n",
        "\n",
        "### Example 2: \\( a_n = n \\)\n",
        "This sequence grows without bound as \\( n \\to \\infty \\).\n"
      ]
    },
    {
      "cell_type": "code",
      "execution_count": null,
      "id": "9a09f5ad",
      "metadata": {
        "id": "9a09f5ad"
      },
      "outputs": [],
      "source": [
        "\n",
        "import numpy as np\n",
        "import matplotlib.pyplot as plt\n",
        "\n",
        "# Define sequences\n",
        "n = np.arange(1, 50)  # Sequence indices\n",
        "\n",
        "# Convergent sequences\n",
        "a_n_1 = 1 / n  # 1/n\n",
        "a_n_2 = n / (n + 1)  # n/(n+1)\n",
        "\n",
        "# Divergent sequences\n",
        "a_n_3 = (-1)**n  # (-1)^n\n",
        "a_n_4 = n  # n\n",
        "\n",
        "# Plot\n",
        "plt.figure(figsize=(12, 8))\n",
        "\n",
        "# Plot convergent sequences\n",
        "plt.subplot(2, 1, 1)\n",
        "plt.plot(n, a_n_1, 'o-', label=r\"$a_n = \\frac{1}{n}$\")\n",
        "plt.plot(n, a_n_2, 'o-', label=r\"$a_n = \\frac{n}{n+1}$\")\n",
        "plt.axhline(0, color='black', linestyle='--', linewidth=0.5)\n",
        "plt.axhline(1, color='black', linestyle='--', linewidth=0.5)\n",
        "plt.title(\"Convergent Sequences\")\n",
        "plt.xlabel(\"n\")\n",
        "plt.ylabel(\"a_n\")\n",
        "plt.legend()\n",
        "plt.grid()\n",
        "\n",
        "# Plot divergent sequences\n",
        "plt.subplot(2, 1, 2)\n",
        "plt.plot(n, a_n_3, 'o-', label=r\"$a_n = (-1)^n$\")\n",
        "plt.plot(n, a_n_4, 'o-', label=r\"$a_n = n$\")\n",
        "plt.axhline(0, color='black', linestyle='--', linewidth=0.5)\n",
        "plt.title(\"Divergent Sequences\")\n",
        "plt.xlabel(\"n\")\n",
        "plt.ylabel(\"a_n\")\n",
        "plt.legend()\n",
        "plt.grid()\n",
        "\n",
        "plt.tight_layout()\n",
        "plt.show()\n"
      ]
    },
    {
      "cell_type": "markdown",
      "id": "75fb5f88",
      "metadata": {
        "id": "75fb5f88"
      },
      "source": [
        "\n",
        "## Key Takeaways\n",
        "\n",
        "1. A sequence has a limit if it approaches a single finite value as \\( n \\to \\infty \\).\n",
        "2. Convergent sequences stabilize to a specific value, while divergent sequences either oscillate or grow without bound.\n",
        "3. Visualization is a powerful tool to understand the behavior of sequences.\n"
      ]
    },
    {
      "cell_type": "code",
      "source": [
        "## EXERCIES\n",
        "\n",
        "from sympy import symbols, limit, oo\n",
        "\n",
        "# Define the variable\n",
        "n = symbols('n')\n",
        "\n",
        "# Define the sequence\n",
        "sequence = (n**2 + 3*n) / (2*n**2 - 2*n)\n",
        "\n",
        "# Calculate the limit as n approaches infinity\n",
        "lim = limit(sequence, n, oo)\n",
        "\n",
        "# Print the result\n",
        "print(f\"The limit of the sequence as n -> infinity is: {lim}\")\n",
        "\n",
        "from sympy import symbols, limit, oo, sin, exp\n",
        "\n",
        "# 1. Problem: Calculate lim (n -> infinity) ((2n + 3)^3) / (n^3 - 1)\n",
        "n = symbols('n')\n",
        "sequence_1 = ((2*n + 3)**3) / (n**3 - 1)\n",
        "lim_1 = limit(sequence_1, n, oo)\n",
        "print(f\"1. The limit as n -> infinity for ((2n + 3)^3) / (n^3 - 1) is: {lim_1}\")\n",
        "\n",
        "# 2. Problem: Prove using squeeze theorem: lim (n -> infinity) (sin(n)/n) = 0\n",
        "sequence_2 = sin(n) / n\n",
        "lim_2 = limit(sequence_2, n, oo)\n",
        "print(f\"2. The limit as n -> infinity for sin(n)/n is: {lim_2}\")\n",
        "\n",
        "# 3. Problem: Find the limit of sequence a_n = (1 + 1/n)^n\n",
        "sequence_3 = (1 + 1/n)**n\n",
        "lim_3 = limit(sequence_3, n, oo)\n",
        "print(f\"3. The limit as n -> infinity for (1 + 1/n)^n is: {lim_3} (Euler's number e)\")\n",
        "\n"
      ],
      "metadata": {
        "colab": {
          "base_uri": "https://localhost:8080/"
        },
        "id": "KeRvkyPiudL8",
        "outputId": "0b30c8c6-4de4-47d5-8097-7b18f87394eb"
      },
      "id": "KeRvkyPiudL8",
      "execution_count": 2,
      "outputs": [
        {
          "output_type": "stream",
          "name": "stdout",
          "text": [
            "The limit of the sequence as n -> infinity is: 1/2\n",
            "1. The limit as n -> infinity for ((2n + 3)^3) / (n^3 - 1) is: 8\n",
            "2. The limit as n -> infinity for sin(n)/n is: 0\n",
            "3. The limit as n -> infinity for (1 + 1/n)^n is: E (Euler's number e)\n"
          ]
        }
      ]
    }
  ],
  "metadata": {
    "colab": {
      "provenance": []
    },
    "language_info": {
      "name": "python"
    },
    "kernelspec": {
      "name": "python3",
      "display_name": "Python 3"
    }
  },
  "nbformat": 4,
  "nbformat_minor": 5
}