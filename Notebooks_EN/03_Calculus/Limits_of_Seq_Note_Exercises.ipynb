{
  "nbformat": 4,
  "nbformat_minor": 0,
  "metadata": {
    "colab": {
      "provenance": []
    },
    "kernelspec": {
      "name": "python3",
      "display_name": "Python 3"
    },
    "language_info": {
      "name": "python"
    }
  },
  "cells": [
    {
      "cell_type": "code",
      "source": [
        "{\n",
        "  \"nbformat\": 4,\n",
        "  \"nbformat_minor\": 0,\n",
        "  \"metadata\": {\n",
        "    \"colab\": {\n",
        "      \"provenance\": []\n",
        "    },\n",
        "    \"kernelspec\": {\n",
        "      \"name\": \"python3\",\n",
        "      \"display_name\": \"Python 3\"\n",
        "    },\n",
        "    \"language_info\": {\n",
        "      \"name\": \"python\"\n",
        "    }\n",
        "  },\n",
        "  \"cells\": [\n",
        "    {\n",
        "      \"cell_type\": \"markdown\",\n",
        "      \"source\": [\n",
        "        \"#notes\\n\"\n",
        "      ],\n",
        "      \"metadata\": {\n",
        "        \"id\": \"FnNN7y2JI4NE\"\n",
        "      }\n",
        "    },\n",
        "    {\n",
        "      \"cell_type\": \"markdown\",\n",
        "      \"source\": [\n",
        "        \"# Limits of Sequences\\n\",\n",
        "        \"\\n\",\n",
        "        \"1. **Limits at Infinity:**\\n\",\n",
        "        \"   - If the highest power in numerator and denominator are the same:  \\n\",\n",
        "        \"     $$\\\\lim_{n \\\\to \\\\infty} \\\\frac{a_n}{b_n} = \\\\frac{\\\\text{coefficient of highest degree in numerator}}{\\\\text{coefficient of highest degree in denominator}}$$\\n\",\n",
        "        \"   - If the degree of numerator > degree of denominator:  \\n\",\n",
        "        \"     $$\\\\lim_{n \\\\to \\\\infty} \\\\frac{a_n}{b_n} = \\\\infty$$\\n\",\n",
        "        \"   - If the degree of numerator < degree of denominator:  \\n\",\n",
        "        \"     $$\\\\lim_{n \\\\to \\\\infty} \\\\frac{a_n}{b_n} = 0$$\\n\",\n",
        "        \"\\n\",\n",
        "        \"2. **Squeeze Theorem:**\\n\",\n",
        "        \"   - If $a_n \\\\leq b_n \\\\leq c_n$ and $\\\\lim_{n \\\\to \\\\infty} a_n = \\\\lim_{n \\\\to \\\\infty} c_n = L$,  \\n\",\n",
        "        \"     then $\\\\lim_{n \\\\to \\\\infty} b_n = L$.\\n\",\n",
        "        \"\\n\",\n",
        "        \"3. **Euler's Number Approximation:**\\n\",\n",
        "        \"   - $$\\\\lim_{n \\\\to \\\\infty} \\\\left(1 + \\\\frac{1}{n}\\\\right)^n = e$$\\n\",\n",
        "        \"\\n\",\n",
        "        \"    a³ + 3a²b + 3ab² + b³\\n\",\n",
        "        \"\\n\",\n",
        "        \"\\n\",\n",
        "        \"\\n\",\n",
        "        \"2. **Special Trigonometric Limits:**\\n\",\n",
        "        \"   - $$\\\\lim_{x \\\\to 0} \\\\frac{\\\\sin(x)}{x} = 1$$\\n\",\n",
        "        \"   - $$\\\\lim_{x \\\\to 0} \\\\frac{\\\\sin(kx)}{x} = k$$ (where $k$ is a constant)\"\n",
        "      ],\n",
        "      \"metadata\": {\n",
        "        \"id\": \"n1XYFjuDCpPy\"\n",
        "      }\n",
        "    },\n",
        "    {\n",
        "      \"cell_type\": \"markdown\",\n",
        "      \"source\": [\n",
        "        \"#exerises\"\n",
        "      ],\n",
        "      \"metadata\": {\n",
        "        \"id\": \"8rf-5XlzHL_3\"\n",
        "      }\n",
        "    },\n",
        "    {\n",
        "      \"cell_type\": \"markdown\",\n",
        "      \"source\": [\n",
        "        \"1.calculate:\\n\",\n",
        "        \"  $$\\\\lim_{n \\\\to \\\\infty} \\\\frac{n^2+3n}{2n^2-2n}$$\\n\",\n",
        "        \"\\n\",\n",
        "        \"devide everything by $n^2$\\n\",\n",
        "        \"\\n\",\n",
        "        \"  $$\\\\lim_{n \\\\to \\\\infty}=\\\\frac{1+\\\\frac{3}{n}}{2-\\\\frac{2}{n}}=\\\\frac{1}{2}$$\\n\",\n",
        "        \"\\n\",\n",
        "        \"\\n\",\n",
        "        \"\\n\",\n",
        "        \"\\n\",\n",
        "        \"---\\n\",\n",
        "        \"\\n\",\n",
        "        \"\\n\",\n",
        "        \"\\n\",\n",
        "        \"  $$\\\\lim_{n \\\\to \\\\infty} \\\\frac{(2n+3)^3}{n^3-1}=\\\\frac{8n^{3}+36n^{2}+54n+27}{n^3-1}$$\\n\",\n",
        "        \"\\n\",\n",
        "        \"devide everyching by $n^3$\\n\",\n",
        "        \"\\n\",\n",
        "        \" $$\\\\lim_{n \\\\to \\\\infty} \\\\frac{8n^{3}+36n^{2}+54n+27}{n^3-1}=\\\\frac{8}{1}=8$$\\n\"\n",
        "      ],\n",
        "      \"metadata\": {\n",
        "        \"id\": \"NnamW0XyHNmX\"\n",
        "      }\n",
        "    },\n",
        "    {\n",
        "      \"cell_type\": \"markdown\",\n",
        "      \"source\": [\n",
        "        \"2.prove using sqeeze theorem:\\n\",\n",
        "        \"\\n\",\n",
        "        \"$$\\\\lim_{n \\\\to \\\\infty} \\\\frac{sin(n)}{n}= 0$$\\n\",\n",
        "        \"\\n\",\n",
        "        \"in this case\\n\",\n",
        "        \"\\n\",\n",
        "        \"$sin(n) \\\\leq n  \\\\leq 0$\"\n",
        "      ],\n",
        "      \"metadata\": {\n",
        "        \"id\": \"LhnUFFu3Jnz6\"\n",
        "      }\n",
        "    },\n",
        "    {\n",
        "      \"cell_type\": \"markdown\",\n",
        "      \"source\": [\n",
        "        \"3.find the limit of sequence:\\n\",\n",
        "        \"$$a_n=(1+\\\\frac{1}{n})^n$$\\n\",\n",
        "        \"\\n\",\n",
        "        \"$$\\\\lim_{n \\\\to \\\\infty}(1+\\\\frac{1}{n})^n=e$$\\n\",\n",
        "        \"\\n\",\n",
        "        \"this is aproximate of e(euler) number\"\n",
        "      ],\n",
        "      \"metadata\": {\n",
        "        \"id\": \"iuPP9pJNI_P7\"\n",
        "      }\n",
        "    }\n",
        "  ]\n",
        "}"
      ],
      "metadata": {
        "colab": {
          "base_uri": "https://localhost:8080/"
        },
        "id": "TwowXIddhe26",
        "outputId": "76dccc20-cac0-4273-991e-4481aba2fa6a"
      },
      "execution_count": 2,
      "outputs": [
        {
          "output_type": "execute_result",
          "data": {
            "text/plain": [
              "{'nbformat': 4,\n",
              " 'nbformat_minor': 0,\n",
              " 'metadata': {'colab': {'provenance': []},\n",
              "  'kernelspec': {'name': 'python3', 'display_name': 'Python 3'},\n",
              "  'language_info': {'name': 'python'}},\n",
              " 'cells': [{'cell_type': 'markdown',\n",
              "   'source': ['#notes\\n'],\n",
              "   'metadata': {'id': 'FnNN7y2JI4NE'}},\n",
              "  {'cell_type': 'markdown',\n",
              "   'source': ['# Limits of Sequences\\n',\n",
              "    '\\n',\n",
              "    '1. **Limits at Infinity:**\\n',\n",
              "    '   - If the highest power in numerator and denominator are the same:  \\n',\n",
              "    '     $$\\\\lim_{n \\\\to \\\\infty} \\\\frac{a_n}{b_n} = \\\\frac{\\\\text{coefficient of highest degree in numerator}}{\\\\text{coefficient of highest degree in denominator}}$$\\n',\n",
              "    '   - If the degree of numerator > degree of denominator:  \\n',\n",
              "    '     $$\\\\lim_{n \\\\to \\\\infty} \\\\frac{a_n}{b_n} = \\\\infty$$\\n',\n",
              "    '   - If the degree of numerator < degree of denominator:  \\n',\n",
              "    '     $$\\\\lim_{n \\\\to \\\\infty} \\\\frac{a_n}{b_n} = 0$$\\n',\n",
              "    '\\n',\n",
              "    '2. **Squeeze Theorem:**\\n',\n",
              "    '   - If $a_n \\\\leq b_n \\\\leq c_n$ and $\\\\lim_{n \\\\to \\\\infty} a_n = \\\\lim_{n \\\\to \\\\infty} c_n = L$,  \\n',\n",
              "    '     then $\\\\lim_{n \\\\to \\\\infty} b_n = L$.\\n',\n",
              "    '\\n',\n",
              "    \"3. **Euler's Number Approximation:**\\n\",\n",
              "    '   - $$\\\\lim_{n \\\\to \\\\infty} \\\\left(1 + \\\\frac{1}{n}\\\\right)^n = e$$\\n',\n",
              "    '\\n',\n",
              "    '    a³ + 3a²b + 3ab² + b³\\n',\n",
              "    '\\n',\n",
              "    '\\n',\n",
              "    '\\n',\n",
              "    '2. **Special Trigonometric Limits:**\\n',\n",
              "    '   - $$\\\\lim_{x \\\\to 0} \\\\frac{\\\\sin(x)}{x} = 1$$\\n',\n",
              "    '   - $$\\\\lim_{x \\\\to 0} \\\\frac{\\\\sin(kx)}{x} = k$$ (where $k$ is a constant)'],\n",
              "   'metadata': {'id': 'n1XYFjuDCpPy'}},\n",
              "  {'cell_type': 'markdown',\n",
              "   'source': ['#exerises'],\n",
              "   'metadata': {'id': '8rf-5XlzHL_3'}},\n",
              "  {'cell_type': 'markdown',\n",
              "   'source': ['1.calculate:\\n',\n",
              "    '  $$\\\\lim_{n \\\\to \\\\infty} \\\\frac{n^2+3n}{2n^2-2n}$$\\n',\n",
              "    '\\n',\n",
              "    'devide everything by $n^2$\\n',\n",
              "    '\\n',\n",
              "    '  $$\\\\lim_{n \\\\to \\\\infty}=\\\\frac{1+\\\\frac{3}{n}}{2-\\\\frac{2}{n}}=\\\\frac{1}{2}$$\\n',\n",
              "    '\\n',\n",
              "    '\\n',\n",
              "    '\\n',\n",
              "    '\\n',\n",
              "    '---\\n',\n",
              "    '\\n',\n",
              "    '\\n',\n",
              "    '\\n',\n",
              "    '  $$\\\\lim_{n \\\\to \\\\infty} \\\\frac{(2n+3)^3}{n^3-1}=\\\\frac{8n^{3}+36n^{2}+54n+27}{n^3-1}$$\\n',\n",
              "    '\\n',\n",
              "    'devide everyching by $n^3$\\n',\n",
              "    '\\n',\n",
              "    ' $$\\\\lim_{n \\\\to \\\\infty} \\\\frac{8n^{3}+36n^{2}+54n+27}{n^3-1}=\\\\frac{8}{1}=8$$\\n'],\n",
              "   'metadata': {'id': 'NnamW0XyHNmX'}},\n",
              "  {'cell_type': 'markdown',\n",
              "   'source': ['2.prove using sqeeze theorem:\\n',\n",
              "    '\\n',\n",
              "    '$$\\\\lim_{n \\\\to \\\\infty} \\\\frac{sin(n)}{n}= 0$$\\n',\n",
              "    '\\n',\n",
              "    'in this case\\n',\n",
              "    '\\n',\n",
              "    '$sin(n) \\\\leq n  \\\\leq 0$'],\n",
              "   'metadata': {'id': 'LhnUFFu3Jnz6'}},\n",
              "  {'cell_type': 'markdown',\n",
              "   'source': ['3.find the limit of sequence:\\n',\n",
              "    '$$a_n=(1+\\\\frac{1}{n})^n$$\\n',\n",
              "    '\\n',\n",
              "    '$$\\\\lim_{n \\\\to \\\\infty}(1+\\\\frac{1}{n})^n=e$$\\n',\n",
              "    '\\n',\n",
              "    'this is aproximate of e(euler) number'],\n",
              "   'metadata': {'id': 'iuPP9pJNI_P7'}}]}"
            ]
          },
          "metadata": {},
          "execution_count": 2
        }
      ]
    },
    {
      "cell_type": "code",
      "source": [
        "from sympy import symbols, limit, oo\n",
        "\n",
        "# Calculate: - $\\displaystyle \\lim_{n \\to \\infty} \\frac{n^2 + 3n}{2 n^2 - 2n}$\n",
        "\n",
        "# (a) Limit of (n^2 + 3n) / (2n^2 - 2n)\n",
        "n = symbols('n')\n",
        "expr1 = (n**2 + 3*n) / (2*n**2 - 2*n)\n",
        "result1 = limit(expr1, n, oo)\n",
        "print(f\"Limit (1a): {result1}\")\n",
        "\n",
        "# (b) Limit of ((2n + 3)^3) / (n^3 - 1)\n",
        "expr2 = ((2*n + 3)**3) / (n**3 - 1)\n",
        "result2 = limit(expr2, n, oo)\n",
        "print(f\"Limit (1b): {result2}\")\n"
      ],
      "metadata": {
        "colab": {
          "base_uri": "https://localhost:8080/"
        },
        "id": "YgEkcKVZiGdF",
        "outputId": "31c1dc42-9621-4fa4-b387-1cb62d2e046d"
      },
      "execution_count": 5,
      "outputs": [
        {
          "output_type": "stream",
          "name": "stdout",
          "text": [
            "Limit (1a): 1/2\n",
            "Limit (1b): 8\n"
          ]
        }
      ]
    },
    {
      "cell_type": "code",
      "source": [
        "from sympy import sin\n",
        "\n",
        "# Limit of sin(n) / n\n",
        "expr3 = sin(n) / n\n",
        "result3 = limit(expr3, n, oo)\n",
        "print(f\"Limit (2): {result3}\")"
      ],
      "metadata": {
        "colab": {
          "base_uri": "https://localhost:8080/"
        },
        "id": "HQ8PSu2ziJAG",
        "outputId": "51f96345-dd61-40bf-ec66-225184e0f163"
      },
      "execution_count": 6,
      "outputs": [
        {
          "output_type": "stream",
          "name": "stdout",
          "text": [
            "Limit (2): 0\n"
          ]
        }
      ]
    },
    {
      "cell_type": "code",
      "source": [
        "# Limit of (1 + 1/n)^n\n",
        "expr4 = (1 + 1/n)**n\n",
        "result4 = limit(expr4, n, oo)\n",
        "print(f\"Limit (3): {result4}\")"
      ],
      "metadata": {
        "colab": {
          "base_uri": "https://localhost:8080/"
        },
        "id": "sLU6evaIicwW",
        "outputId": "1a3cda03-91b9-4d6f-de84-cbcebe5d3365"
      },
      "execution_count": 7,
      "outputs": [
        {
          "output_type": "stream",
          "name": "stdout",
          "text": [
            "Limit (3): E\n"
          ]
        }
      ]
    },
    {
      "cell_type": "code",
      "source": [],
      "metadata": {
        "id": "SWQOt3UHifZt"
      },
      "execution_count": null,
      "outputs": []
    }
  ]
}