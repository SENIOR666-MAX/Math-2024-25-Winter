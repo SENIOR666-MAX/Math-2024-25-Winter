{
  "nbformat": 4,
  "nbformat_minor": 0,
  "metadata": {
    "colab": {
      "provenance": []
    },
    "kernelspec": {
      "name": "python3",
      "display_name": "Python 3"
    },
    "language_info": {
      "name": "python"
    }
  },
  "cells": [
    {
      "cell_type": "markdown",
      "source": [
        "# Notes\n"
      ],
      "metadata": {
        "id": "FnNN7y2JI4NE"
      }
    },
    {
      "cell_type": "markdown",
      "source": [
        "## Limits of Sequences\n",
        "### 1. Limits at Infinity\n",
        "- If the highest power in numerator and denominator are the same:  \n",
        "$$\\lim_{n \\to \\infty} \\frac{a_n}{b_n} = \\frac{\\text{coefficient of highest degree in numerator}}{\\text{coefficient of highest degree in denominator}}$$\n",
        "- If the degree of numerator > degree of denominator:  \n",
        "$$\\lim_{n \\to \\infty} \\frac{a_n}{b_n} = \\infty$$\n",
        "- If the degree of numerator < degree of denominator:  \n",
        "$$\\lim_{n \\to \\infty} \\frac{a_n}{b_n} = 0$$\n",
        "\n",
        "### 2. Squeeze Theorem\n",
        "- If $a_n \\leq b_n \\leq c_n$ and $\\lim_{n \\to \\infty} a_n = \\lim_{n \\to \\infty} c_n = L$,  \n",
        "  then $\\lim_{n \\to \\infty} b_n = L$.\n",
        "\n",
        "### 3. Euler's Number Approximation\n",
        "- $$\\lim_{n \\to \\infty} \\left(1 + \\frac{1}{n}\\right)^n = e$$\n",
        "\n",
        "### 4. Special Trigonometric Limits\n",
        "- $$\\lim_{x \\to 0} \\frac{\\sin(x)}{x} = 1$$\n",
        "- $$\\lim_{x \\to 0} \\frac{\\sin(kx)}{x} = k$$ (where $k$ is a constant)\n"
      ],
      "metadata": {
        "id": "n1XYFjuDCpPy"
      }
    },
    {
      "cell_type": "markdown",
      "source": [
        "## Exercises"
      ],
      "metadata": {
        "id": "8rf-5XlzHL_3"
      }
    },
    {
      "cell_type": "markdown",
      "source": [
        "### 1. Calculate:\n",
        "#### a)\n",
        "$$\\lim_{n \\to \\infty} \\frac{n^2+3n}{2n^2-2n}$$\n",
        "Divide everything by $n^2$:\n",
        "$$\\lim_{n \\to \\infty}=\\frac{1+\\frac{3}{n}}{2-\\frac{2}{n}}=\\frac{1}{2}$$\n",
        "\n",
        "#### b)\n",
        "$$\\lim_{n \\to \\infty} \\frac{(2n+3)^3}{n^3-1}$$\n",
        "Divide everything by $n^3$:\n",
        "$$\\lim_{n \\to \\infty} \\frac{8n^{3}+36n^{2}+54n+27}{n^3-1}=\\frac{8}{1}=8$$"
      ],
      "metadata": {
        "id": "NnamW0XyHNmX"
      }
    },
    {
      "cell_type": "markdown",
      "source": [
        "### 2. Prove Using the Squeeze Theorem:\n",
        "$$\\lim_{n \\to \\infty} \\frac{\\sin(n)}{n}= 0$$\n",
        "In this case:\n",
        "$$-1 \\leq \\sin(n) \\leq 1 \\implies \\frac{-1}{n} \\leq \\frac{\\sin(n)}{n} \\leq \\frac{1}{n}$$\n",
        "As $n \\to \\infty$, both bounds approach $0$, hence by the Squeeze Theorem:\n",
        "$$\\lim_{n \\to \\infty} \\frac{\\sin(n)}{n} = 0$$"
      ],
      "metadata": {
        "id": "LhnUFFu3Jnz6"
      }
    },
    {
      "cell_type": "markdown",
      "source": [
        "### 3. Find the Limit of the Sequence:\n",
        "$$a_n=(1+\\frac{1}{n})^n$$\n",
        "As $n \\to \\infty$, this approaches the Euler's number $e$:\n",
        "$$\\lim_{n \\to \\infty}(1+\\frac{1}{n})^n=e$$\n"
      ],
      "metadata": {
        "id": "iuPP9pJNI_P7"
      }
    }
  ]
}

    {
      "cell_type": "code",
      "source": [
        "from sympy import symbols, limit, oo\n",
        "\n",
        "# Calculate: - $\\displaystyle \\lim_{n \\to \\infty} \\frac{n^2 + 3n}{2 n^2 - 2n}$\n",
        "\n",
        "# (a) Limit of (n^2 + 3n) / (2n^2 - 2n)\n",
        "n = symbols('n')\n",
        "expr1 = (n**2 + 3*n) / (2*n**2 - 2*n)\n",
        "result1 = limit(expr1, n, oo)\n",
        "print(f\"Limit (1a): {result1}\")\n",
        "\n",
        "# (b) Limit of ((2n + 3)^3) / (n^3 - 1)\n",
        "expr2 = ((2*n + 3)**3) / (n**3 - 1)\n",
        "result2 = limit(expr2, n, oo)\n",
        "print(f\"Limit (1b): {result2}\")\n"
      ],
      "metadata": {
        "colab": {
          "base_uri": "https://localhost:8080/"
        },
        "id": "YgEkcKVZiGdF",
        "outputId": "31c1dc42-9621-4fa4-b387-1cb62d2e046d"
      },
      "execution_count": 5,
      "outputs": [
        {
          "output_type": "stream",
          "name": "stdout",
          "text": [
            "Limit (1a): 1/2\n",
            "Limit (1b): 8\n"
          ]
        }
      ]
    },
    {
      "cell_type": "code",
      "source": [
        "from sympy import sin\n",
        "\n",
        "# Limit of sin(n) / n\n",
        "expr3 = sin(n) / n\n",
        "result3 = limit(expr3, n, oo)\n",
        "print(f\"Limit (2): {result3}\")"
      ],
      "metadata": {
        "colab": {
          "base_uri": "https://localhost:8080/"
        },
        "id": "HQ8PSu2ziJAG",
        "outputId": "51f96345-dd61-40bf-ec66-225184e0f163"
      },
      "execution_count": 6,
      "outputs": [
        {
          "output_type": "stream",
          "name": "stdout",
          "text": [
            "Limit (2): 0\n"
          ]
        }
      ]
    },
    {
      "cell_type": "code",
      "source": [
        "# Limit of (1 + 1/n)^n\n",
        "expr4 = (1 + 1/n)**n\n",
        "result4 = limit(expr4, n, oo)\n",
        "print(f\"Limit (3): {result4}\")"
      ],
      "metadata": {
        "colab": {
          "base_uri": "https://localhost:8080/"
        },
        "id": "sLU6evaIicwW",
        "outputId": "1a3cda03-91b9-4d6f-de84-cbcebe5d3365"
      },
      "execution_count": 7,
      "outputs": [
        {
          "output_type": "stream",
          "name": "stdout",
          "text": [
            "Limit (3): E\n"
          ]
        }
      ]
    },
    {
      "cell_type": "code",
      "source": [],
      "metadata": {
        "id": "SWQOt3UHifZt"
      },
      "execution_count": null,
      "outputs": []
    }
  ]
}
